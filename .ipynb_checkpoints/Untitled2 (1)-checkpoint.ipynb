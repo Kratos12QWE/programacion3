{
 "cells": [
  {
   "cell_type": "markdown",
   "metadata": {
    "id": "CUM7EcVu1RTX"
   },
   "source": [
    "##Práctica Python"
   ]
  },
  {
   "cell_type": "code",
   "execution_count": null,
   "metadata": {
    "colab": {
     "base_uri": "https://localhost:8080/"
    },
    "id": "l0twt2fo1I1v",
    "outputId": "a0c08414-8825-43c9-9b93-b7dd121a067e"
   },
   "outputs": [
    {
     "name": "stdout",
     "output_type": "stream",
     "text": [
      "Brasil gano 5 titulos mundiales de futbol\n"
     ]
    }
   ],
   "source": [
    "print('Brasil ganó 5 titulos mundiales de futbol')"
   ]
  },
  {
   "cell_type": "code",
   "execution_count": null,
   "metadata": {
    "colab": {
     "base_uri": "https://localhost:8080/"
    },
    "id": "bqUC9D3Q1iWw",
    "outputId": "62f3b9df-fcf8-43bb-e39f-c2e6bb460b9b"
   },
   "outputs": [
    {
     "name": "stdout",
     "output_type": "stream",
     "text": [
      "Brasil ganó 5 titulos mundiales de futbol\n"
     ]
    }
   ],
   "source": [
    "print('Brasil ganó 5 titulos mundiales de futbol', sep='-')"
   ]
  },
  {
   "cell_type": "code",
   "execution_count": null,
   "metadata": {
    "colab": {
     "base_uri": "https://localhost:8080/"
    },
    "id": "NtG-hy6Q1iZe",
    "outputId": "7f28d011-40c6-4c1f-a0eb-4bf06af206a1"
   },
   "outputs": [
    {
     "name": "stdout",
     "output_type": "stream",
     "text": [
      "Brasil-ganó-5-titulos mundiales-de futbol\n"
     ]
    }
   ],
   "source": [
    "print('Brasil', 'ganó', 5, 'titulos mundiales', 'de futbol', sep='-')"
   ]
  },
  {
   "cell_type": "code",
   "execution_count": null,
   "metadata": {
    "id": "FXG34UI03lHw"
   },
   "outputs": [],
   "source": [
    "#pais=\"Argentina\"\n",
    "#titulo= 3\n",
    "pais=\"Italia\"\n",
    "titulo= 4"
   ]
  },
  {
   "cell_type": "code",
   "execution_count": null,
   "metadata": {
    "colab": {
     "base_uri": "https://localhost:8080/"
    },
    "id": "GsaEXt8f3lQM",
    "outputId": "5b335440-9431-422e-f4c6-d613e43d33e0"
   },
   "outputs": [
    {
     "name": "stdout",
     "output_type": "stream",
     "text": [
      "Italia ganó 4 titulos mundiales de futbol\n"
     ]
    }
   ],
   "source": [
    "print(pais, 'ganó', titulo, 'titulos mundiales', 'de futbol')"
   ]
  },
  {
   "cell_type": "code",
   "execution_count": null,
   "metadata": {
    "colab": {
     "base_uri": "https://localhost:8080/"
    },
    "id": "YtpIUVWq7LqE",
    "outputId": "a3a49a44-a8da-4721-b752-17b006000daa"
   },
   "outputs": [
    {
     "data": {
      "text/plain": [
       "int"
      ]
     },
     "execution_count": 10,
     "metadata": {},
     "output_type": "execute_result"
    }
   ],
   "source": [
    "type(numero_secreto)"
   ]
  },
  {
   "cell_type": "code",
   "execution_count": null,
   "metadata": {
    "colab": {
     "base_uri": "https://localhost:8080/"
    },
    "id": "hq_aUGWo1ieL",
    "outputId": "c0eae414-38a8-45a8-e6b1-0b04a7681e49"
   },
   "outputs": [
    {
     "name": "stdout",
     "output_type": "stream",
     "text": [
      "========================================\n",
      "Bienvenido al Juego de Adivinanza\n",
      "========================================\n",
      "Digite un número  77\n",
      "Digitaste... 77\n",
      "¡¡¡Felicidades!!!....Adivinaste el número\n",
      "FIN DEL JUEGO\n"
     ]
    }
   ],
   "source": [
    "print('========================================')\n",
    "print('Bienvenido al Juego de Adivinanza')\n",
    "print('========================================')\n",
    "\n",
    "numero_secreto=77\n",
    "\n",
    "entrada= int(input('Digite un número  '))\n",
    "\n",
    "print('Digitaste...', entrada)\n",
    "\n",
    "if(entrada==numero_secreto):\n",
    "  print('¡¡¡Felicidades!!!....Adivinaste el número')\n",
    "else:\n",
    "  print('Lo siento...no lograste adivinar el número')\n",
    "\n",
    "print('FIN DEL JUEGO')"
   ]
  },
  {
   "cell_type": "code",
   "execution_count": null,
   "metadata": {
    "colab": {
     "base_uri": "https://localhost:8080/"
    },
    "id": "W0s7P81C7_wg",
    "outputId": "3a9348f3-f7ec-4689-9e72-c42c230b0d15"
   },
   "outputs": [
    {
     "name": "stdout",
     "output_type": "stream",
     "text": [
      "Digite un número  89\n",
      "Digitaste... 89\n",
      "Lo siento...el número que ingresasate es mayor que el número secreto\n",
      "FIN DEL JUEGO\n"
     ]
    }
   ],
   "source": [
    "numero_secreto=77\n",
    "entrada= int(input('Digite un número  '))\n",
    "entrada= int(entrada)\n",
    "print('Digitaste...', entrada)\n",
    "\n",
    "acertaste=entrada==numero_secreto #iguales\n",
    "mayor=entrada>numero_secreto  #entrada es MAYOR\n",
    "menor=entrada<numero_secreto  #entrada es MENOR\n",
    "\n",
    "if(acertaste):\n",
    "  print('¡¡¡Felicidades!!!....Adivinaste el número')\n",
    "elif(mayor):\n",
    "  print('Lo siento...el número que ingresasate es mayor que el número secreto')\n",
    "else:\n",
    "  print('Lo siento...el número que ingresasate es menor que el número secreto')\n",
    "print('FIN DEL JUEGO')"
   ]
  },
  {
   "cell_type": "code",
   "execution_count": null,
   "metadata": {
    "colab": {
     "base_uri": "https://localhost:8080/"
    },
    "id": "WgwXRgLi7LyS",
    "outputId": "294117e2-ad24-4be9-c1f1-81e2b381d7db"
   },
   "outputs": [
    {
     "data": {
      "text/plain": [
       "int"
      ]
     },
     "execution_count": 11,
     "metadata": {},
     "output_type": "execute_result"
    }
   ],
   "source": [
    "type(entrada)"
   ]
  },
  {
   "cell_type": "code",
   "execution_count": null,
   "metadata": {
    "colab": {
     "base_uri": "https://localhost:8080/"
    },
    "id": "etBhw9C4-CNt",
    "outputId": "7ddc6585-5fef-424c-df81-708a67e4b43f"
   },
   "outputs": [
    {
     "name": "stdout",
     "output_type": "stream",
     "text": [
      "========================================\n",
      "Bienvenido al Juego de Adivinanza\n",
      "========================================\n",
      "Intento:  1  de  3\n",
      "Digite un número  67\n",
      "Digitaste... 67\n",
      "Lo siento...el número que ingresasate es menor que el número secreto\n",
      "Intento:  2  de  3\n",
      "Digite un número  78\n",
      "Digitaste... 78\n",
      "Lo siento...el número que ingresasate es mayor que el número secreto\n",
      "Intento:  3  de  3\n",
      "Digite un número  77\n",
      "Digitaste... 77\n",
      "¡¡¡Felicidades!!!....Adivinaste el número\n",
      "FIN DEL JUEGO\n"
     ]
    }
   ],
   "source": [
    "print('========================================')\n",
    "print('Bienvenido al Juego de Adivinanza')\n",
    "print('========================================')\n",
    "\n",
    "numero_secreto=77\n",
    "total_intentos=3\n",
    "iteracion=1\n",
    "\n",
    "while(iteracion<=total_intentos):\n",
    "  print('Intento: ', iteracion, ' de ', total_intentos)\n",
    "  entrada= input('Digite un número  ')\n",
    "  entrada= int(entrada)\n",
    "  print('Digitaste...', entrada)\n",
    "\n",
    "  acertaste=entrada==numero_secreto #iguales\n",
    "  mayor=entrada>numero_secreto  #entrada es MAYOR\n",
    "  menor=entrada<numero_secreto  #entrada es MENOR\n",
    "\n",
    "  if(acertaste):\n",
    "   print('¡¡¡Felicidades!!!....Adivinaste el número')\n",
    "  elif(mayor):\n",
    "   print('Lo siento...el número que ingresasate es mayor que el número secreto')\n",
    "  else:\n",
    "   print('Lo siento...el número que ingresasate es menor que el número secreto')\n",
    "\n",
    "  iteracion= iteracion+1\n",
    "\n",
    "print('FIN DEL JUEGO')"
   ]
  },
  {
   "cell_type": "code",
   "execution_count": null,
   "metadata": {
    "id": "EDrcNKflBmxk"
   },
   "outputs": [],
   "source": [
    "print('========================================')\n",
    "print('Bienvenido al Juego de Adivinanza')\n",
    "print('========================================')\n",
    "\n",
    "numero_secreto=77\n",
    "total_intentos=6\n",
    "iteracion=1\n",
    "\n",
    "while(iteracion<=total_intentos):\n",
    "  print('Intento: ', iteracion, ' de ', total_intentos)\n",
    "  entrada= input('Digite un número  ')\n",
    "  entrada= int(entrada)\n",
    "  print('Digitaste...', entrada)\n",
    "\n",
    "  acertaste=entrada==numero_secreto #iguales\n",
    "  mayor=entrada>numero_secreto  #entrada es MAYOR\n",
    "  menor=entrada<numero_secreto  #entrada es MENOR\n",
    "\n",
    "  if(acertaste):\n",
    "   print('¡¡¡Felicidades!!!....Adivinaste el número')\n",
    "   break\n",
    "  elif(mayor):\n",
    "   print('Lo siento...el número que ingresasate es mayor que el número secreto')\n",
    "  else:\n",
    "   print('Lo siento...el número que ingresasate es menor que el número secreto')\n",
    "\n",
    "  iteracion= iteracion+1\n",
    "\n",
    "print('FIN DEL JUEGO')"
   ]
  },
  {
   "cell_type": "markdown",
   "metadata": {
    "id": "YJCJHZVtCYfw"
   },
   "source": [
    "##Mejorando el codigoo.....incorporar formato"
   ]
  },
  {
   "cell_type": "code",
   "execution_count": null,
   "metadata": {
    "colab": {
     "base_uri": "https://localhost:8080/"
    },
    "id": "4JRAtFL37_z1",
    "outputId": "90446651-c40f-419c-f807-0fd71b1e64fa"
   },
   "outputs": [
    {
     "name": "stdout",
     "output_type": "stream",
     "text": [
      "========================================\n",
      "Bienvenido al Juego de Adivinanza\n",
      "========================================\n",
      "Intento: 1 de 6\n",
      "Digite un número  2\n",
      "Digitaste... 2\n",
      "Lo siento...el número que ingresasate es menor que el número secreto\n",
      "Intento: 2 de 6\n",
      "Digite un número  77\n",
      "Digitaste... 77\n",
      "¡¡¡Felicidades!!!....Adivinaste el número\n",
      "FIN DEL JUEGO\n"
     ]
    }
   ],
   "source": [
    "print('========================================')\n",
    "print('Bienvenido al Juego de Adivinanza')\n",
    "print('========================================')\n",
    "\n",
    "numero_secreto=77\n",
    "total_intentos=6\n",
    "iteracion=1\n",
    "\n",
    "while(iteracion<=total_intentos):\n",
    "  print('Intento: {} de {}'. format(iteracion, total_intentos))\n",
    "  entrada= input('Digite un número  ')\n",
    "  entrada= int(entrada)\n",
    "  print('Digitaste...', entrada)\n",
    "\n",
    "  acertaste=entrada==numero_secreto #iguales\n",
    "  mayor=entrada>numero_secreto  #entrada es MAYOR\n",
    "  menor=entrada<numero_secreto  #entrada es MENOR\n",
    "\n",
    "  if(acertaste):\n",
    "   print('¡¡¡Felicidades!!!....Adivinaste el número')\n",
    "   break\n",
    "  elif(mayor):\n",
    "   print('Lo siento...el número que ingresaste es mayor que el número secreto')\n",
    "  else:\n",
    "   print('Lo siento...el número que ingresaste es menor que el número secreto')\n",
    "\n",
    "  iteracion= iteracion+1\n",
    "\n",
    "print('FIN DEL JUEGO')"
   ]
  },
  {
   "cell_type": "markdown",
   "metadata": {
    "id": "BxeCldy6DcB2"
   },
   "source": [
    "##Utilizando otro sentencia para loops... for i range(N1, N2, N3) y controlar que el numeroingresado sea positivo y si adivinó del total de intentos, para el juego"
   ]
  },
  {
   "cell_type": "code",
   "execution_count": null,
   "metadata": {
    "colab": {
     "base_uri": "https://localhost:8080/"
    },
    "id": "w4nKn1nrExhn",
    "outputId": "aaea7368-c720-4fa7-b694-7cb0d96f47bf"
   },
   "outputs": [
    {
     "name": "stdout",
     "output_type": "stream",
     "text": [
      "1\n",
      "3\n",
      "5\n",
      "7\n",
      "9\n"
     ]
    }
   ],
   "source": [
    "for i in range(1, 10, 2):\n",
    "  print(i)"
   ]
  },
  {
   "cell_type": "code",
   "execution_count": null,
   "metadata": {
    "colab": {
     "base_uri": "https://localhost:8080/"
    },
    "id": "R20ID0K7FfJb",
    "outputId": "7395e245-5d34-4f5e-d05b-87d31f050821"
   },
   "outputs": [
    {
     "name": "stdout",
     "output_type": "stream",
     "text": [
      "20\n",
      "18\n",
      "16\n",
      "14\n",
      "12\n",
      "10\n",
      "8\n",
      "6\n"
     ]
    }
   ],
   "source": [
    "#LIMITE NO ES TOMADO EN CUENTA(20, -4- ,-2)\n",
    "for i in range(20, 4, -2):\n",
    "  print(i)"
   ]
  },
  {
   "cell_type": "code",
   "execution_count": null,
   "metadata": {
    "colab": {
     "base_uri": "https://localhost:8080/"
    },
    "id": "u-XVkPkZEATs",
    "outputId": "ccc7e56e-ad75-467f-a9d2-eb273e6808fb"
   },
   "outputs": [
    {
     "name": "stdout",
     "output_type": "stream",
     "text": [
      "========================================\n",
      "Bienvenido al Juego de Adivinanza\n",
      "========================================\n",
      "Intento: 1 de 6\n",
      "Digite un número entre 1 y 100 00\n",
      "Digitaste... 0\n",
      "Ingresar un numero entre 1 y 100\n",
      "Intento: 2 de 6\n",
      "Digite un número entre 1 y 100 77\n",
      "Digitaste... 77\n",
      "¡¡¡Felicidades!!!....Adivinaste el número\n",
      "FIN DEL JUEGO\n"
     ]
    }
   ],
   "source": [
    "print('========================================')\n",
    "print('Bienvenido al Juego de Adivinanza')\n",
    "print('========================================')\n",
    "\n",
    "numero_secreto=77\n",
    "total_intentos=6\n",
    "\n",
    "for iteracion in range(1, total_intentos +1):\n",
    "  print('Intento: {} de {}'. format(iteracion, total_intentos))\n",
    "  entrada= input('Digite un número entre 1 y 100 ')\n",
    "  entrada= int(entrada)\n",
    "  print('Digitaste...', entrada)\n",
    "  if(entrada<1 or entrada>100):\n",
    "    print('Ingresar un numero entre 1 y 100')\n",
    "    continue\n",
    "\n",
    "  acertaste=entrada==numero_secreto #iguales\n",
    "  mayor=entrada>numero_secreto  #entrada es MAYOR\n",
    "  menor=entrada<numero_secreto  #entrada es MENOR\n",
    "\n",
    "  if(acertaste):\n",
    "   print('¡¡¡Felicidades!!!....Adivinaste el número')\n",
    "   break\n",
    "  elif(mayor):\n",
    "   print('Lo siento...el número que ingresaste es mayor que el número secreto')\n",
    "  else:\n",
    "   print('Lo siento...el número que ingresaste es menor que el número secreto')\n",
    "\n",
    "  iteracion= iteracion+1\n",
    "\n",
    "print('FIN DEL JUEGO')"
   ]
  },
  {
   "cell_type": "markdown",
   "metadata": {
    "id": "dsW3O_4gH7N7"
   },
   "source": [
    "##Generar un número aleatorio...RANDOM"
   ]
  },
  {
   "cell_type": "code",
   "execution_count": null,
   "metadata": {
    "colab": {
     "base_uri": "https://localhost:8080/"
    },
    "id": "dG5yjSzFH6bs",
    "outputId": "0a543b3d-e345-4a6e-ff37-2afc208095c8"
   },
   "outputs": [
    {
     "data": {
      "text/plain": [
       "0.9660703461675766"
      ]
     },
     "execution_count": 37,
     "metadata": {},
     "output_type": "execute_result"
    }
   ],
   "source": [
    "#generar número random\n",
    "import random\n",
    "random.random()"
   ]
  },
  {
   "cell_type": "code",
   "execution_count": null,
   "metadata": {
    "colab": {
     "base_uri": "https://localhost:8080/"
    },
    "id": "LaKKS0GiItdA",
    "outputId": "f570690e-a616-4a4d-d6da-29f260f55db6"
   },
   "outputs": [
    {
     "data": {
      "text/plain": [
       "0.36737116255367575"
      ]
     },
     "execution_count": 39,
     "metadata": {},
     "output_type": "execute_result"
    }
   ],
   "source": [
    "#generar número random entre 1 y 100\n",
    "numero_random = random.random()*100\n",
    "numero_random"
   ]
  },
  {
   "cell_type": "code",
   "execution_count": null,
   "metadata": {
    "colab": {
     "base_uri": "https://localhost:8080/"
    },
    "id": "7EAvZLFUJH1q",
    "outputId": "2a100f04-8abb-478a-e651-c2be27cc4823"
   },
   "outputs": [
    {
     "data": {
      "text/plain": [
       "96"
      ]
     },
     "execution_count": 43,
     "metadata": {},
     "output_type": "execute_result"
    }
   ],
   "source": [
    "#generar número random entre 0 y 100\n",
    "numero_random = round(random.random()*100)\n",
    "numero_random"
   ]
  },
  {
   "cell_type": "code",
   "execution_count": null,
   "metadata": {
    "colab": {
     "base_uri": "https://localhost:8080/"
    },
    "id": "6STPcAEZJthu",
    "outputId": "84039351-9491-4ecf-caaa-c9d6bb5c0079"
   },
   "outputs": [
    {
     "data": {
      "text/plain": [
       "21"
      ]
     },
     "execution_count": 47,
     "metadata": {},
     "output_type": "execute_result"
    }
   ],
   "source": [
    "#generar número random entre 1 y 100\n",
    "numero_random = random.randrange(1, 101)\n",
    "numero_random"
   ]
  },
  {
   "cell_type": "markdown",
   "metadata": {
    "id": "clcR1y-PKHP5"
   },
   "source": [
    "##Mejorando el código, generando el NUMERO SECRETO de manera aleatoria, tenemos..."
   ]
  },
  {
   "cell_type": "code",
   "execution_count": null,
   "metadata": {
    "id": "okoZBsInKBu4"
   },
   "outputs": [],
   "source": [
    "import random\n",
    "print('========================================')\n",
    "print('Bienvenido al Juego de Adivinanza')\n",
    "print('========================================')\n",
    "\n",
    "numero_secreto= random.randrange(1, 101)\n",
    "total_intentos=10\n",
    "\n",
    "for iteracion in range(1, total_intentos +1):\n",
    "  print('Intento: {} de {}'. format(iteracion, total_intentos))\n",
    "  entrada= input('Digite un número entre 1 y 100: ')\n",
    "  entrada= int(entrada)\n",
    "  print('Digitaste...', entrada)\n",
    "  if(entrada<1 or entrada>100):\n",
    "    print('Ingresar un numero entre 1 y 100 ')\n",
    "    continue\n",
    "\n",
    "  acertaste=entrada==numero_secreto #iguales\n",
    "  mayor=entrada>numero_secreto  #entrada es MAYOR\n",
    "  menor=entrada<numero_secreto  #entrada es MENOR\n",
    "\n",
    "  if(acertaste):\n",
    "   print('¡¡¡Felicidades!!!....Adivinaste el número')\n",
    "   break\n",
    "  elif(mayor):\n",
    "   print('Lo siento...el número que ingresaste es mayor que el número secreto')\n",
    "  else:\n",
    "   print('Lo siento...el número que ingresaste es menor que el número secreto')\n",
    "\n",
    "  iteracion= iteracion+1\n",
    "\n",
    "print('FIN DEL JUEGO')"
   ]
  },
  {
   "cell_type": "markdown",
   "metadata": {
    "id": "HvUHcCgEMoL5"
   },
   "source": [
    "##Definiendo el nivel de dificultad..."
   ]
  },
  {
   "cell_type": "code",
   "execution_count": null,
   "metadata": {
    "colab": {
     "base_uri": "https://localhost:8080/"
    },
    "id": "eMpLDdAyMtW5",
    "outputId": "f304a2c7-9db9-4ae9-a8fa-d78b6b69a4e8"
   },
   "outputs": [
    {
     "name": "stdout",
     "output_type": "stream",
     "text": [
      "========================================\n",
      "Bienvenido al Juego de Adivinanza\n",
      "========================================\n",
      "Seleccione el nivel de dificultad\n",
      "(1) Fácil  (2) Medio  (3) Difícil\n",
      "Ingrese nivel de dificultad: 3\n",
      "Intento: 1 de 5\n",
      "Digite un número entre 1 y 100: 70\n",
      "Digitaste... 70\n",
      "Lo siento...el número que ingresasate es mayor que el número secreto\n",
      "Intento: 2 de 5\n",
      "Digite un número entre 1 y 100: 40\n",
      "Digitaste... 40\n",
      "Lo siento...el número que ingresasate es mayor que el número secreto\n",
      "Intento: 3 de 5\n",
      "Digite un número entre 1 y 100: 25\n",
      "Digitaste... 25\n",
      "Lo siento...el número que ingresasate es mayor que el número secreto\n",
      "Intento: 4 de 5\n",
      "Digite un número entre 1 y 100: 18\n",
      "Digitaste... 18\n",
      "Lo siento...el número que ingresasate es mayor que el número secreto\n",
      "Intento: 5 de 5\n",
      "Digite un número entre 1 y 100: 10\n",
      "Digitaste... 10\n",
      "¡¡¡Felicidades!!!....Adivinaste el número\n",
      "FIN DEL JUEGO\n"
     ]
    }
   ],
   "source": [
    "import random\n",
    "print('========================================')\n",
    "print('Bienvenido al Juego de Adivinanza')\n",
    "print('========================================')\n",
    "\n",
    "numero_secreto= random.randrange(1, 101)\n",
    "\n",
    "print('Seleccione el nivel de dificultad')\n",
    "print('(1) Fácil  (2) Medio  (3) Difícil')\n",
    "\n",
    "nivel= int(input('Ingrese nivel de dificultad: '))\n",
    "\n",
    "if(nivel==1):\n",
    "  total_intentos=20\n",
    "elif(nivel==2):\n",
    "  total_intentos=10\n",
    "else:\n",
    "  total_intentos=5\n",
    "\n",
    "for iteracion in range(1, total_intentos +1):\n",
    "  print('Intento: {} de {}'. format(iteracion, total_intentos))\n",
    "  entrada= input('Digite un número entre 1 y 100: ')\n",
    "  entrada= int(entrada)\n",
    "  print('Digitaste...', entrada)\n",
    "  if(entrada<1 or entrada>100):\n",
    "    print('Ingresar un numero entre 1 y 100 ')\n",
    "    continue\n",
    "\n",
    "  acertaste=entrada==numero_secreto #iguales\n",
    "  mayor=entrada>numero_secreto  #entrada es MAYOR\n",
    "  menor=entrada<numero_secreto  #entrada es MENOR\n",
    "\n",
    "  if(acertaste):\n",
    "   print('¡¡¡Felicidades!!!....Adivinaste el número')\n",
    "   break\n",
    "  elif(mayor):\n",
    "   print('Lo siento...el número que ingresaste es mayor que el número secreto')\n",
    "  else:\n",
    "   print('Lo siento...el número que ingresaste es menor que el número secreto')\n",
    "\n",
    "  iteracion= iteracion+1\n",
    "\n",
    "print('FIN DEL JUEGO')\n"
   ]
  },
  {
   "cell_type": "code",
   "execution_count": null,
   "metadata": {
    "colab": {
     "base_uri": "https://localhost:8080/"
    },
    "id": "Qn7Qc4H1Or4l",
    "outputId": "cbba17a8-4ecb-4a78-a4e7-54908b77fad9"
   },
   "outputs": [
    {
     "data": {
      "text/plain": [
       "10"
      ]
     },
     "execution_count": 52,
     "metadata": {},
     "output_type": "execute_result"
    }
   ],
   "source": [
    "numero_secreto"
   ]
  },
  {
   "cell_type": "markdown",
   "metadata": {
    "id": "o2VnXYp8O3Nv"
   },
   "source": [
    "##Definiendo el cálculo de puntuación para el usuario..."
   ]
  },
  {
   "cell_type": "code",
   "execution_count": null,
   "metadata": {
    "colab": {
     "base_uri": "https://localhost:8080/"
    },
    "id": "uD6sziEtO-oH",
    "outputId": "b3fa425b-3c4d-4761-dd13-b293f5e5dd31"
   },
   "outputs": [
    {
     "data": {
      "text/plain": [
       "20"
      ]
     },
     "execution_count": 53,
     "metadata": {},
     "output_type": "execute_result"
    }
   ],
   "source": [
    "puntos_perdidos= abs(50-70)\n",
    "puntos_perdidos"
   ]
  },
  {
   "cell_type": "code",
   "execution_count": null,
   "metadata": {
    "colab": {
     "background_save": true,
     "base_uri": "https://localhost:8080/"
    },
    "id": "1a2WW0k_PA_Y",
    "outputId": "72b2ac1c-3209-42f5-b1c7-138bca8f1479"
   },
   "outputs": [
    {
     "name": "stdout",
     "output_type": "stream",
     "text": [
      "========================================\n",
      "Bienvenido al Juego de Adivinanza\n",
      "========================================\n",
      "Seleccione el nivel de dificultad\n",
      "(1) Fácil  (2) Medio  (3) Difícil\n"
     ]
    }
   ],
   "source": [
    "import random\n",
    "print('========================================')\n",
    "print('Bienvenido al Juego de Adivinanza')\n",
    "print('========================================')\n",
    "\n",
    "numero_secreto= random.randrange(1, 101)\n",
    "puntaje= 1000   #puntos asignados\n",
    "\n",
    "print('Seleccione el nivel de dificultad')\n",
    "print('(1) Fácil  (2) Medio  (3) Difícil')\n",
    "\n",
    "nivel= int(input('Ingrese nivel de dificultad: '))\n",
    "\n",
    "if(nivel==1):\n",
    "  total_intentos=20\n",
    "elif(nivel==2):\n",
    "  total_intentos=10\n",
    "else:\n",
    "  total_intentos=5\n",
    "\n",
    "for iteracion in range(1, total_intentos +1):\n",
    "  print('Intento: {} de {}'. format(iteracion, total_intentos))\n",
    "  entrada= input('Digite un número entre 1 y 100: ')\n",
    "  entrada= int(entrada)\n",
    "  print('Digitaste...', entrada)\n",
    "  if(entrada<1 or entrada>100):\n",
    "    print('Ingresar un numero entre 1 y 100 ')\n",
    "    continue\n",
    "\n",
    "  acertaste=entrada==numero_secreto #iguales\n",
    "  mayor=entrada>numero_secreto  #entrada es MAYOR\n",
    "  menor=entrada<numero_secreto  #entrada es MENOR\n",
    "\n",
    "  if(acertaste):\n",
    "   print('¡¡¡Felicidades!!!....Adivinaste el número y ganaste {} puntos'.format(puntaje))\n",
    "   break\n",
    "  elif(mayor):\n",
    "   print('Lo siento...el número que ingresaste es mayor que el número secreto')\n",
    "  else:\n",
    "   print('Lo siento...el número que ingresaste es menor que el número secreto')\n",
    "\n",
    "  puntos_perdidos = abs(numero_secreto - entrada)\n",
    "  iteracion= iteracion+1\n",
    "\n",
    "print('FIN DEL JUEGO')\n"
   ]
  }
 ],
 "metadata": {
  "colab": {
   "provenance": []
  },
  "kernelspec": {
   "display_name": "Python 3",
   "name": "python3"
  },
  "language_info": {
   "name": "python"
  }
 },
 "nbformat": 4,
 "nbformat_minor": 0
}
