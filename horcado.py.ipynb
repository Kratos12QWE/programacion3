{
 "cells": [
  {
   "cell_type": "code",
   "execution_count": null,
   "id": "28a629ae",
   "metadata": {
    "scrolled": true
   },
   "outputs": [
    {
     "name": "stdout",
     "output_type": "stream",
     "text": [
      "================================\n",
      "Bienvenido al Juego del Ahorcado\n",
      "================================\n"
     ]
    }
   ],
   "source": [
    "def jugar():\n",
    "\n",
    "    print('================================')\n",
    "    print('Bienvenido al Juego del Ahorcado')\n",
    "    printk('================================')\n",
    "    \n",
    "     \n",
    "    palabra_secreta = 'mandarina' \n",
    "    ahorcado = False\n",
    "    acerto = False \n",
    "    \n",
    "    while ( not ahorcado and not acerto ):\n",
    "        entrada=input (\"ingrese una letra...\")\n",
    "        \n",
    "        indice=0\n",
    "        for letra in palabra_secreta:\n",
    "            if(entrada==letra):\n",
    "                \n",
    "                print('se encontro la letra {} en la posicion {}'.format(letra,indice))\n",
    "            indice = indice+1\n",
    "        print('jugando...')\n",
    "\n",
    "    print(\"Fin del Juego\")\n",
    "    \n",
    "if(__name__ == \"__main__\"):\n",
    "    jugar()"
   ]
  },
  {
   "cell_type": "code",
   "execution_count": null,
   "id": "06da46fe",
   "metadata": {},
   "outputs": [],
   "source": [
    "palabra = 'madarina'\n",
    "palabra.capitalize()"
   ]
  },
  {
   "cell_type": "code",
   "execution_count": null,
   "id": "f50715cf",
   "metadata": {},
   "outputs": [],
   "source": [
    "palabra.endswith('na')"
   ]
  },
  {
   "cell_type": "code",
   "execution_count": null,
   "id": "1b158f71",
   "metadata": {},
   "outputs": [],
   "source": [
    "palabra2 = 'PROGRAMACION TRES'\n",
    "palabra2.lower()"
   ]
  },
  {
   "cell_type": "code",
   "execution_count": null,
   "id": "5c6c9e06",
   "metadata": {},
   "outputs": [],
   "source": [
    "palabra.upper()#comvierte a mayuscula"
   ]
  },
  {
   "cell_type": "code",
   "execution_count": 14,
   "id": "8cb97327",
   "metadata": {},
   "outputs": [
    {
     "data": {
      "text/plain": [
       "'abc'"
      ]
     },
     "execution_count": 14,
     "metadata": {},
     "output_type": "execute_result"
    }
   ],
   "source": [
    "palabra =  '  abc  '\n",
    "palabra.strip() #elimina los espacios en blanco a la izquierda y derecha"
   ]
  },
  {
   "cell_type": "code",
   "execution_count": null,
   "id": "3019b6e2",
   "metadata": {},
   "outputs": [],
   "source": [
    "palabra=\"mandarina\"\n",
    "type(palabra)#encuentra el tipo de palabra"
   ]
  },
  {
   "cell_type": "code",
   "execution_count": null,
   "id": "854103c1",
   "metadata": {},
   "outputs": [],
   "source": [
    "palabra.find(\"m\")#busacador de posicion"
   ]
  },
  {
   "cell_type": "code",
   "execution_count": null,
   "id": "608878dc",
   "metadata": {},
   "outputs": [],
   "source": [
    "palabra.find(\"j\")"
   ]
  },
  {
   "cell_type": "code",
   "execution_count": 16,
   "id": "83df56cf",
   "metadata": {},
   "outputs": [
    {
     "data": {
      "text/plain": [
       "list"
      ]
     },
     "execution_count": 16,
     "metadata": {},
     "output_type": "execute_result"
    }
   ],
   "source": [
    "valores=[]\n",
    "type(valores)"
   ]
  },
  {
   "cell_type": "code",
   "execution_count": 17,
   "id": "8709ad28",
   "metadata": {},
   "outputs": [
    {
     "data": {
      "text/plain": [
       "False"
      ]
     },
     "execution_count": 17,
     "metadata": {},
     "output_type": "execute_result"
    }
   ],
   "source": [
    "valores=[0,1,2,'x']\n",
    "7 in valores"
   ]
  },
  {
   "cell_type": "code",
   "execution_count": 18,
   "id": "20f81779",
   "metadata": {},
   "outputs": [
    {
     "data": {
      "text/plain": [
       "True"
      ]
     },
     "execution_count": 18,
     "metadata": {},
     "output_type": "execute_result"
    }
   ],
   "source": [
    "2 in valores"
   ]
  },
  {
   "cell_type": "code",
   "execution_count": 19,
   "id": "51e71fa2",
   "metadata": {},
   "outputs": [
    {
     "data": {
      "text/plain": [
       "True"
      ]
     },
     "execution_count": 19,
     "metadata": {},
     "output_type": "execute_result"
    }
   ],
   "source": [
    "'a'in'mandarina'"
   ]
  },
  {
   "cell_type": "code",
   "execution_count": 21,
   "id": "558b282a",
   "metadata": {},
   "outputs": [
    {
     "data": {
      "text/plain": [
       "'x'"
      ]
     },
     "execution_count": 21,
     "metadata": {},
     "output_type": "execute_result"
    }
   ],
   "source": [
    "valores[3]"
   ]
  },
  {
   "cell_type": "code",
   "execution_count": 22,
   "id": "00fe700b",
   "metadata": {},
   "outputs": [
    {
     "ename": "TypeError",
     "evalue": "'<' not supported between instances of 'str' and 'int'",
     "output_type": "error",
     "traceback": [
      "\u001b[1;31m---------------------------------------------------------------------------\u001b[0m",
      "\u001b[1;31mTypeError\u001b[0m                                 Traceback (most recent call last)",
      "Cell \u001b[1;32mIn[22], line 1\u001b[0m\n\u001b[1;32m----> 1\u001b[0m \u001b[38;5;28;43mmin\u001b[39;49m\u001b[43m(\u001b[49m\u001b[43mvalores\u001b[49m\u001b[43m)\u001b[49m\n",
      "\u001b[1;31mTypeError\u001b[0m: '<' not supported between instances of 'str' and 'int'"
     ]
    }
   ],
   "source": [
    "min(valores)"
   ]
  },
  {
   "cell_type": "code",
   "execution_count": 23,
   "id": "a0f8ea9d",
   "metadata": {},
   "outputs": [],
   "source": [
    "valores=[1,2,3,4,5,6,7,8,9]"
   ]
  },
  {
   "cell_type": "code",
   "execution_count": 24,
   "id": "6abef7ad",
   "metadata": {},
   "outputs": [
    {
     "data": {
      "text/plain": [
       "1"
      ]
     },
     "execution_count": 24,
     "metadata": {},
     "output_type": "execute_result"
    }
   ],
   "source": [
    "min(valores)"
   ]
  },
  {
   "cell_type": "code",
   "execution_count": 25,
   "id": "40666e7a",
   "metadata": {},
   "outputs": [
    {
     "data": {
      "text/plain": [
       "9"
      ]
     },
     "execution_count": 25,
     "metadata": {},
     "output_type": "execute_result"
    }
   ],
   "source": [
    "max(valores)"
   ]
  },
  {
   "cell_type": "code",
   "execution_count": 26,
   "id": "f0c5139a",
   "metadata": {},
   "outputs": [
    {
     "data": {
      "text/plain": [
       "9"
      ]
     },
     "execution_count": 26,
     "metadata": {},
     "output_type": "execute_result"
    }
   ],
   "source": [
    "len(valores)"
   ]
  },
  {
   "cell_type": "code",
   "execution_count": 28,
   "id": "411bc35b",
   "metadata": {},
   "outputs": [
    {
     "data": {
      "text/plain": [
       "[1, 2, 3, 4, 5, 6, 7, 8, 9, 2]"
      ]
     },
     "execution_count": 28,
     "metadata": {},
     "output_type": "execute_result"
    }
   ],
   "source": [
    "valores.append(2)\n",
    "valores"
   ]
  },
  {
   "cell_type": "code",
   "execution_count": 29,
   "id": "fe5a9f28",
   "metadata": {},
   "outputs": [
    {
     "data": {
      "text/plain": [
       "2"
      ]
     },
     "execution_count": 29,
     "metadata": {},
     "output_type": "execute_result"
    }
   ],
   "source": [
    "valores.pop()"
   ]
  },
  {
   "cell_type": "code",
   "execution_count": 30,
   "id": "a5d2df69",
   "metadata": {},
   "outputs": [
    {
     "data": {
      "text/plain": [
       "[1, 2, 3, 4, 5, 6, 7, 8, 9]"
      ]
     },
     "execution_count": 30,
     "metadata": {},
     "output_type": "execute_result"
    }
   ],
   "source": [
    "valores"
   ]
  },
  {
   "cell_type": "code",
   "execution_count": 1,
   "id": "38c1f940",
   "metadata": {},
   "outputs": [
    {
     "data": {
      "text/plain": [
       "2"
      ]
     },
     "execution_count": 1,
     "metadata": {},
     "output_type": "execute_result"
    }
   ],
   "source": [
    "serie=range(0,10)\n",
    "serie[2]"
   ]
  },
  {
   "cell_type": "code",
   "execution_count": 2,
   "id": "35e51311",
   "metadata": {},
   "outputs": [
    {
     "ename": "IndexError",
     "evalue": "range object index out of range",
     "output_type": "error",
     "traceback": [
      "\u001b[1;31m---------------------------------------------------------------------------\u001b[0m",
      "\u001b[1;31mIndexError\u001b[0m                                Traceback (most recent call last)",
      "Cell \u001b[1;32mIn[2], line 1\u001b[0m\n\u001b[1;32m----> 1\u001b[0m \u001b[43mserie\u001b[49m\u001b[43m[\u001b[49m\u001b[38;5;241;43m10\u001b[39;49m\u001b[43m]\u001b[49m\n",
      "\u001b[1;31mIndexError\u001b[0m: range object index out of range"
     ]
    }
   ],
   "source": [
    "serie[10]"
   ]
  },
  {
   "cell_type": "code",
   "execution_count": 10,
   "id": "b481202c",
   "metadata": {},
   "outputs": [],
   "source": [
    "dias_laburo=['lunes','martes','miercoles','jueves','viernes']"
   ]
  },
  {
   "cell_type": "code",
   "execution_count": 11,
   "id": "5486874e",
   "metadata": {},
   "outputs": [],
   "source": [
    "dias_laburo.append('sabado')\n"
   ]
  },
  {
   "cell_type": "code",
   "execution_count": 12,
   "id": "c69c0903",
   "metadata": {},
   "outputs": [
    {
     "data": {
      "text/plain": [
       "['lunes', 'martes', 'miercoles', 'jueves', 'viernes', 'sabado']"
      ]
     },
     "execution_count": 12,
     "metadata": {},
     "output_type": "execute_result"
    }
   ],
   "source": [
    "dias_laburo"
   ]
  },
  {
   "cell_type": "code",
   "execution_count": 14,
   "id": "e18fb8b8",
   "metadata": {},
   "outputs": [],
   "source": [
    "dias_laburo=('lunes','martes','miercoles','jueves','viernes')"
   ]
  },
  {
   "cell_type": "code",
   "execution_count": 15,
   "id": "c50ff3e7",
   "metadata": {},
   "outputs": [
    {
     "data": {
      "text/plain": [
       "tuple"
      ]
     },
     "execution_count": 15,
     "metadata": {},
     "output_type": "execute_result"
    }
   ],
   "source": [
    "type(dias_laburo)"
   ]
  },
  {
   "cell_type": "code",
   "execution_count": 16,
   "id": "7bce60c4",
   "metadata": {},
   "outputs": [
    {
     "data": {
      "text/plain": [
       "[(3, 5), (4, 6), (5, 7)]"
      ]
     },
     "execution_count": 16,
     "metadata": {},
     "output_type": "execute_result"
    }
   ],
   "source": [
    "punto=(3,5)\n",
    "p1=(3,5)\n",
    "p2=(4,6)\n",
    "p3=(5,7)\n",
    "linea=[p1,p2,p3]\n",
    "linea"
   ]
  },
  {
   "cell_type": "code",
   "execution_count": 19,
   "id": "1bdc0136",
   "metadata": {},
   "outputs": [
    {
     "data": {
      "text/plain": [
       "[('yami moto', 5), ('edivaldo', 6), ('isisdoro', 7)]"
      ]
     },
     "execution_count": 19,
     "metadata": {},
     "output_type": "execute_result"
    }
   ],
   "source": [
    "p1=(\"yami moto\",5)\n",
    "p2=(\"edivaldo\",6)\n",
    "p3=(\"isisdoro\",7)\n",
    "profesores=[p1,p2,p3]\n",
    "profesores"
   ]
  },
  {
   "cell_type": "code",
   "execution_count": 21,
   "id": "7445150d",
   "metadata": {},
   "outputs": [
    {
     "data": {
      "text/plain": [
       "'edivaldo'"
      ]
     },
     "execution_count": 21,
     "metadata": {},
     "output_type": "execute_result"
    }
   ],
   "source": [
    "profesores[1][0]"
   ]
  },
  {
   "cell_type": "code",
   "execution_count": null,
   "id": "ddc99d28",
   "metadata": {},
   "outputs": [],
   "source": []
  }
 ],
 "metadata": {
  "kernelspec": {
   "display_name": "Python 3 (ipykernel)",
   "language": "python",
   "name": "python3"
  },
  "language_info": {
   "codemirror_mode": {
    "name": "ipython",
    "version": 3
   },
   "file_extension": ".py",
   "mimetype": "text/x-python",
   "name": "python",
   "nbconvert_exporter": "python",
   "pygments_lexer": "ipython3",
   "version": "3.11.4"
  }
 },
 "nbformat": 4,
 "nbformat_minor": 5
}
