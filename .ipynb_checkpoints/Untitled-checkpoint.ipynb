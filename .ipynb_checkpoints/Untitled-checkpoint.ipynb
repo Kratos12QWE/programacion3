{
 "cells": [
  {
   "cell_type": "code",
   "execution_count": null,
   "id": "28a629ae",
   "metadata": {
    "scrolled": true
   },
   "outputs": [],
   "source": [
    "def jugar():\n",
    "\n",
    "    print('================================')\n",
    "    print('Bienvenido al Juego del Ahorcado')\n",
    "    print('================================')\n",
    "    \n",
    "     \n",
    "    palabra_secreta = 'mandarina' \n",
    "    ahorcado = False\n",
    "    acerto = False \n",
    "    \n",
    "    while ( not ahorcado and not acerto ):\n",
    "        entrada=input (\"ingrese una letra...\")\n",
    "        \n",
    "        indice=0\n",
    "        for letra in palabra_secreta:\n",
    "            if(entrada==letra):\n",
    "                \n",
    "                print('se encontro la letra {} en la posicion {}'.format(letra,indice))\n",
    "            indice = indice+1\n",
    "        print('jugando...')\n",
    "\n",
    "    print(\"Fin del Juego\")\n",
    "    \n",
    "if(__name__ == \"__main__\"):\n",
    "    jugar()"
   ]
  },
  {
   "cell_type": "code",
   "execution_count": null,
   "id": "06da46fe",
   "metadata": {},
   "outputs": [],
   "source": [
    "palabra = 'madarina'\n",
    "palabra.capitalize()"
   ]
  },
  {
   "cell_type": "code",
   "execution_count": null,
   "id": "f50715cf",
   "metadata": {},
   "outputs": [],
   "source": [
    "palabra.endswith('na')"
   ]
  },
  {
   "cell_type": "code",
   "execution_count": null,
   "id": "1b158f71",
   "metadata": {},
   "outputs": [],
   "source": [
    "palabra2 = 'PROGRAMACION TRES'\n",
    "palabra2.lower()"
   ]
  },
  {
   "cell_type": "code",
   "execution_count": null,
   "id": "5c6c9e06",
   "metadata": {},
   "outputs": [],
   "source": [
    "palabra.upper()#comvierte a mayuscula"
   ]
  },
  {
   "cell_type": "code",
   "execution_count": 14,
   "id": "8cb97327",
   "metadata": {},
   "outputs": [
    {
     "data": {
      "text/plain": [
       "'abc'"
      ]
     },
     "execution_count": 14,
     "metadata": {},
     "output_type": "execute_result"
    }
   ],
   "source": [
    "palabra =  '  abc  '\n",
    "palabra.strip() #elimina los espacios en blanco a la izquierda y derecha"
   ]
  },
  {
   "cell_type": "code",
   "execution_count": null,
   "id": "3019b6e2",
   "metadata": {},
   "outputs": [],
   "source": [
    "palabra=\"mandarina\"\n",
    "type(palabra)#encuentra el tipo de palabra"
   ]
  },
  {
   "cell_type": "code",
   "execution_count": null,
   "id": "854103c1",
   "metadata": {},
   "outputs": [],
   "source": [
    "palabra.find(\"m\")#busacador de posicion"
   ]
  },
  {
   "cell_type": "code",
   "execution_count": null,
   "id": "608878dc",
   "metadata": {},
   "outputs": [],
   "source": [
    "palabra.find(\"j\")"
   ]
  },
  {
   "cell_type": "code",
   "execution_count": 16,
   "id": "021d4304",
   "metadata": {},
   "outputs": [
    {
     "data": {
      "text/plain": [
       "list"
      ]
     },
     "execution_count": 16,
     "metadata": {},
     "output_type": "execute_result"
    }
   ],
   "source": [
    "valores=[]\n",
    "type(valores)"
   ]
  },
  {
   "cell_type": "code",
   "execution_count": null,
   "id": "12cbcfc7",
   "metadata": {},
   "outputs": [],
   "source": []
  },
  {
   "cell_type": "code",
   "execution_count": null,
   "id": "037d8ed6",
   "metadata": {
    "collapsed": true
   },
   "outputs": [],
   "source": []
  },
  {
   "cell_type": "code",
   "execution_count": null,
   "id": "3321ff7b",
   "metadata": {},
   "outputs": [],
   "source": []
  }
 ],
 "metadata": {
  "kernelspec": {
   "display_name": "Python 3 (ipykernel)",
   "language": "python",
   "name": "python3"
  },
  "language_info": {
   "codemirror_mode": {
    "name": "ipython",
    "version": 3
   },
   "file_extension": ".py",
   "mimetype": "text/x-python",
   "name": "python",
   "nbconvert_exporter": "python",
   "pygments_lexer": "ipython3",
   "version": "3.11.4"
  }
 },
 "nbformat": 4,
 "nbformat_minor": 5
}
