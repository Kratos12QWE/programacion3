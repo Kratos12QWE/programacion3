{
 "cells": [
  {
   "cell_type": "code",
   "execution_count": 13,
   "id": "28a629ae",
   "metadata": {
    "scrolled": true
   },
   "outputs": [
    {
     "name": "stdout",
     "output_type": "stream",
     "text": [
      "================================\n",
      "Bienvenido al Juego del Ahorcado\n"
     ]
    },
    {
     "ename": "NameError",
     "evalue": "name 'printk' is not defined",
     "output_type": "error",
     "traceback": [
      "\u001b[1;31m---------------------------------------------------------------------------\u001b[0m",
      "\u001b[1;31mNameError\u001b[0m                                 Traceback (most recent call last)",
      "Cell \u001b[1;32mIn[13], line 26\u001b[0m\n\u001b[0;32m     23\u001b[0m     \u001b[38;5;28mprint\u001b[39m(\u001b[38;5;124m\"\u001b[39m\u001b[38;5;124mFin del Juego\u001b[39m\u001b[38;5;124m\"\u001b[39m)\n\u001b[0;32m     25\u001b[0m \u001b[38;5;28;01mif\u001b[39;00m(\u001b[38;5;18m__name__\u001b[39m \u001b[38;5;241m==\u001b[39m \u001b[38;5;124m\"\u001b[39m\u001b[38;5;124m__main__\u001b[39m\u001b[38;5;124m\"\u001b[39m):\n\u001b[1;32m---> 26\u001b[0m     \u001b[43mjugar\u001b[49m\u001b[43m(\u001b[49m\u001b[43m)\u001b[49m\n",
      "Cell \u001b[1;32mIn[13], line 5\u001b[0m, in \u001b[0;36mjugar\u001b[1;34m()\u001b[0m\n\u001b[0;32m      3\u001b[0m \u001b[38;5;28mprint\u001b[39m(\u001b[38;5;124m'\u001b[39m\u001b[38;5;124m================================\u001b[39m\u001b[38;5;124m'\u001b[39m)\n\u001b[0;32m      4\u001b[0m \u001b[38;5;28mprint\u001b[39m(\u001b[38;5;124m'\u001b[39m\u001b[38;5;124mBienvenido al Juego del Ahorcado\u001b[39m\u001b[38;5;124m'\u001b[39m)\n\u001b[1;32m----> 5\u001b[0m \u001b[43mprintk\u001b[49m(\u001b[38;5;124m'\u001b[39m\u001b[38;5;124m================================\u001b[39m\u001b[38;5;124m'\u001b[39m)\n\u001b[0;32m      8\u001b[0m palabra_secreta \u001b[38;5;241m=\u001b[39m \u001b[38;5;124m'\u001b[39m\u001b[38;5;124mmandarina\u001b[39m\u001b[38;5;124m'\u001b[39m \n\u001b[0;32m      9\u001b[0m ahorcado \u001b[38;5;241m=\u001b[39m \u001b[38;5;28;01mFalse\u001b[39;00m\n",
      "\u001b[1;31mNameError\u001b[0m: name 'printk' is not defined"
     ]
    }
   ],
   "source": [
    "def jugar():\n",
    "\n",
    "    print('================================')\n",
    "    print('Bienvenido al Juego del Ahorcado')\n",
    "    printk('================================')\n",
    "    \n",
    "     \n",
    "    palabra_secreta = 'mandarina' \n",
    "    ahorcado = False\n",
    "    acerto = False \n",
    "    \n",
    "    while ( not ahorcado and not acerto ):\n",
    "        entrada=input (\"ingrese una letra...\")\n",
    "        \n",
    "        indice=0\n",
    "        for letra in palabra_secreta:\n",
    "            if(entrada==letra):\n",
    "                \n",
    "                print('se encontro la letra {} en la posicion {}'.format(letra,indice))\n",
    "            indice = indice+1\n",
    "        print('jugando...')\n",
    "\n",
    "    print(\"Fin del Juego\")\n",
    "    \n",
    "if(__name__ == \"__main__\"):\n",
    "    jugar()"
   ]
  },
  {
   "cell_type": "code",
   "execution_count": 9,
   "id": "06da46fe",
   "metadata": {},
   "outputs": [
    {
     "data": {
      "text/plain": [
       "'Madarina'"
      ]
     },
     "execution_count": 9,
     "metadata": {},
     "output_type": "execute_result"
    }
   ],
   "source": [
    "palabra = 'madarina'\n",
    "palabra.capitalize()"
   ]
  },
  {
   "cell_type": "code",
   "execution_count": 11,
   "id": "f50715cf",
   "metadata": {},
   "outputs": [
    {
     "data": {
      "text/plain": [
       "False"
      ]
     },
     "execution_count": 11,
     "metadata": {},
     "output_type": "execute_result"
    }
   ],
   "source": [
    "palabra.endswith('na')"
   ]
  },
  {
   "cell_type": "code",
   "execution_count": null,
   "id": "1b158f71",
   "metadata": {},
   "outputs": [],
   "source": [
    "palabra2 = 'PROGRAMACION TRES'\n",
    "palabra2.lower()"
   ]
  },
  {
   "cell_type": "code",
   "execution_count": null,
   "id": "5c6c9e06",
   "metadata": {},
   "outputs": [],
   "source": [
    "palabra.upper()#comvierte a mayuscula"
   ]
  },
  {
   "cell_type": "code",
   "execution_count": 14,
   "id": "8cb97327",
   "metadata": {},
   "outputs": [
    {
     "data": {
      "text/plain": [
       "'abc'"
      ]
     },
     "execution_count": 14,
     "metadata": {},
     "output_type": "execute_result"
    }
   ],
   "source": [
    "palabra =  '  abc  '\n",
    "palabra.strip() #elimina los espacios en blanco a la izquierda y derecha"
   ]
  },
  {
   "cell_type": "code",
   "execution_count": null,
   "id": "3019b6e2",
   "metadata": {},
   "outputs": [],
   "source": [
    "palabra=\"mandarina\"\n",
    "type(palabra)#encuentra el tipo de palabra"
   ]
  },
  {
   "cell_type": "code",
   "execution_count": null,
   "id": "854103c1",
   "metadata": {},
   "outputs": [],
   "source": [
    "palabra.find(\"m\")#busacador de posicion"
   ]
  },
  {
   "cell_type": "code",
   "execution_count": null,
   "id": "608878dc",
   "metadata": {},
   "outputs": [],
   "source": [
    "palabra.find(\"j\")"
   ]
  },
  {
   "cell_type": "code",
   "execution_count": 16,
   "id": "83df56cf",
   "metadata": {},
   "outputs": [
    {
     "data": {
      "text/plain": [
       "list"
      ]
     },
     "execution_count": 16,
     "metadata": {},
     "output_type": "execute_result"
    }
   ],
   "source": [
    "valores=[]\n",
    "type(valores)"
   ]
  },
  {
   "cell_type": "code",
   "execution_count": 17,
   "id": "8709ad28",
   "metadata": {},
   "outputs": [
    {
     "data": {
      "text/plain": [
       "False"
      ]
     },
     "execution_count": 17,
     "metadata": {},
     "output_type": "execute_result"
    }
   ],
   "source": [
    "valores=[0,1,2,'x']\n",
    "7 in valores"
   ]
  },
  {
   "cell_type": "code",
   "execution_count": 18,
   "id": "20f81779",
   "metadata": {},
   "outputs": [
    {
     "data": {
      "text/plain": [
       "True"
      ]
     },
     "execution_count": 18,
     "metadata": {},
     "output_type": "execute_result"
    }
   ],
   "source": [
    "2 in valores"
   ]
  },
  {
   "cell_type": "code",
   "execution_count": 12,
   "id": "51e71fa2",
   "metadata": {},
   "outputs": [
    {
     "data": {
      "text/plain": [
       "False"
      ]
     },
     "execution_count": 12,
     "metadata": {},
     "output_type": "execute_result"
    }
   ],
   "source": [
    "'f'in'mandarina'"
   ]
  },
  {
   "cell_type": "code",
   "execution_count": 21,
   "id": "558b282a",
   "metadata": {},
   "outputs": [
    {
     "data": {
      "text/plain": [
       "'x'"
      ]
     },
     "execution_count": 21,
     "metadata": {},
     "output_type": "execute_result"
    }
   ],
   "source": [
    "valores[3]"
   ]
  },
  {
   "cell_type": "code",
   "execution_count": 22,
   "id": "00fe700b",
   "metadata": {},
   "outputs": [
    {
     "ename": "TypeError",
     "evalue": "'<' not supported between instances of 'str' and 'int'",
     "output_type": "error",
     "traceback": [
      "\u001b[1;31m---------------------------------------------------------------------------\u001b[0m",
      "\u001b[1;31mTypeError\u001b[0m                                 Traceback (most recent call last)",
      "Cell \u001b[1;32mIn[22], line 1\u001b[0m\n\u001b[1;32m----> 1\u001b[0m \u001b[38;5;28;43mmin\u001b[39;49m\u001b[43m(\u001b[49m\u001b[43mvalores\u001b[49m\u001b[43m)\u001b[49m\n",
      "\u001b[1;31mTypeError\u001b[0m: '<' not supported between instances of 'str' and 'int'"
     ]
    }
   ],
   "source": [
    "min(valores)"
   ]
  },
  {
   "cell_type": "code",
   "execution_count": 3,
   "id": "a0f8ea9d",
   "metadata": {},
   "outputs": [],
   "source": [
    "valores=[1,2,3,4,5,6,7,8,9]"
   ]
  },
  {
   "cell_type": "code",
   "execution_count": 24,
   "id": "6abef7ad",
   "metadata": {
    "scrolled": true
   },
   "outputs": [
    {
     "data": {
      "text/plain": [
       "1"
      ]
     },
     "execution_count": 24,
     "metadata": {},
     "output_type": "execute_result"
    }
   ],
   "source": [
    "min(valores)"
   ]
  },
  {
   "cell_type": "code",
   "execution_count": 25,
   "id": "40666e7a",
   "metadata": {},
   "outputs": [
    {
     "data": {
      "text/plain": [
       "9"
      ]
     },
     "execution_count": 25,
     "metadata": {},
     "output_type": "execute_result"
    }
   ],
   "source": [
    "max(valores)"
   ]
  },
  {
   "cell_type": "code",
   "execution_count": 26,
   "id": "f0c5139a",
   "metadata": {},
   "outputs": [
    {
     "data": {
      "text/plain": [
       "9"
      ]
     },
     "execution_count": 26,
     "metadata": {},
     "output_type": "execute_result"
    }
   ],
   "source": [
    "len(valores)"
   ]
  },
  {
   "cell_type": "code",
   "execution_count": 28,
   "id": "411bc35b",
   "metadata": {},
   "outputs": [
    {
     "data": {
      "text/plain": [
       "[1, 2, 3, 4, 5, 6, 7, 8, 9, 2]"
      ]
     },
     "execution_count": 28,
     "metadata": {},
     "output_type": "execute_result"
    }
   ],
   "source": [
    "valores.append(2)\n",
    "valores"
   ]
  },
  {
   "cell_type": "code",
   "execution_count": 5,
   "id": "fe5a9f28",
   "metadata": {},
   "outputs": [
    {
     "data": {
      "text/plain": [
       "6"
      ]
     },
     "execution_count": 5,
     "metadata": {},
     "output_type": "execute_result"
    }
   ],
   "source": [
    "valores.pop(5)"
   ]
  },
  {
   "cell_type": "code",
   "execution_count": 8,
   "id": "a5d2df69",
   "metadata": {},
   "outputs": [
    {
     "data": {
      "text/plain": [
       "4.285714285714286"
      ]
     },
     "execution_count": 8,
     "metadata": {},
     "output_type": "execute_result"
    }
   ],
   "source": [
    "sum(valores)/len(valores)"
   ]
  },
  {
   "cell_type": "code",
   "execution_count": 1,
   "id": "38c1f940",
   "metadata": {},
   "outputs": [
    {
     "data": {
      "text/plain": [
       "2"
      ]
     },
     "execution_count": 1,
     "metadata": {},
     "output_type": "execute_result"
    }
   ],
   "source": [
    "serie=range(0,10)\n",
    "serie[2]"
   ]
  },
  {
   "cell_type": "code",
   "execution_count": 2,
   "id": "35e51311",
   "metadata": {},
   "outputs": [
    {
     "ename": "IndexError",
     "evalue": "range object index out of range",
     "output_type": "error",
     "traceback": [
      "\u001b[1;31m---------------------------------------------------------------------------\u001b[0m",
      "\u001b[1;31mIndexError\u001b[0m                                Traceback (most recent call last)",
      "Cell \u001b[1;32mIn[2], line 1\u001b[0m\n\u001b[1;32m----> 1\u001b[0m \u001b[43mserie\u001b[49m\u001b[43m[\u001b[49m\u001b[38;5;241;43m10\u001b[39;49m\u001b[43m]\u001b[49m\n",
      "\u001b[1;31mIndexError\u001b[0m: range object index out of range"
     ]
    }
   ],
   "source": [
    "serie[10]"
   ]
  },
  {
   "cell_type": "code",
   "execution_count": 10,
   "id": "b481202c",
   "metadata": {},
   "outputs": [],
   "source": [
    "dias_laburo=['lunes','martes','miercoles','jueves','viernes']"
   ]
  },
  {
   "cell_type": "code",
   "execution_count": 11,
   "id": "5486874e",
   "metadata": {},
   "outputs": [],
   "source": [
    "dias_laburo.append('sabado')\n"
   ]
  },
  {
   "cell_type": "code",
   "execution_count": 12,
   "id": "c69c0903",
   "metadata": {},
   "outputs": [
    {
     "data": {
      "text/plain": [
       "['lunes', 'martes', 'miercoles', 'jueves', 'viernes', 'sabado']"
      ]
     },
     "execution_count": 12,
     "metadata": {},
     "output_type": "execute_result"
    }
   ],
   "source": [
    "dias_laburo"
   ]
  },
  {
   "cell_type": "code",
   "execution_count": 14,
   "id": "e18fb8b8",
   "metadata": {},
   "outputs": [],
   "source": [
    "dias_laburo=('lunes','martes','miercoles','jueves','viernes')"
   ]
  },
  {
   "cell_type": "code",
   "execution_count": 15,
   "id": "c50ff3e7",
   "metadata": {},
   "outputs": [
    {
     "data": {
      "text/plain": [
       "tuple"
      ]
     },
     "execution_count": 15,
     "metadata": {},
     "output_type": "execute_result"
    }
   ],
   "source": [
    "type(dias_laburo)"
   ]
  },
  {
   "cell_type": "code",
   "execution_count": 16,
   "id": "7bce60c4",
   "metadata": {
    "scrolled": true
   },
   "outputs": [
    {
     "data": {
      "text/plain": [
       "[(3, 5), (4, 6), (5, 7)]"
      ]
     },
     "execution_count": 16,
     "metadata": {},
     "output_type": "execute_result"
    }
   ],
   "source": [
    "punto=(3,5)\n",
    "p1=(3,5)\n",
    "p2=(4,6)\n",
    "p3=(5,7)\n",
    "linea=[p1,p2,p3]\n",
    "linea"
   ]
  },
  {
   "cell_type": "code",
   "execution_count": 19,
   "id": "1bdc0136",
   "metadata": {},
   "outputs": [
    {
     "data": {
      "text/plain": [
       "[('yami moto', 5), ('edivaldo', 6), ('isisdoro', 7)]"
      ]
     },
     "execution_count": 19,
     "metadata": {},
     "output_type": "execute_result"
    }
   ],
   "source": [
    "p1=(\"yami moto\",5)\n",
    "p2=(\"edivaldo\",6)\n",
    "p3=(\"isisdoro\",7)\n",
    "profesores=[p1,p2,p3]\n",
    "profesores"
   ]
  },
  {
   "cell_type": "code",
   "execution_count": 21,
   "id": "7445150d",
   "metadata": {},
   "outputs": [
    {
     "data": {
      "text/plain": [
       "'edivaldo'"
      ]
     },
     "execution_count": 21,
     "metadata": {},
     "output_type": "execute_result"
    }
   ],
   "source": [
    "profesores[1][0]"
   ]
  },
  {
   "cell_type": "code",
   "execution_count": 28,
   "id": "ddc99d28",
   "metadata": {
    "scrolled": false
   },
   "outputs": [
    {
     "name": "stdout",
     "output_type": "stream",
     "text": [
      "Ingrese su numero del 0 al 9: 45\n",
      "cuarenta y cinco\n"
     ]
    }
   ],
   "source": [
    "unidades = ['', 'uno', 'dos', 'tres', 'cuatro', 'cinco', 'séis', 'siete', 'ocho', 'nueve']\n",
    "decenas = ['', 'diez', 'veinte', 'treinta y ', 'cuarenta y ', 'cincuenta y ', 'secenta y ', 'setenta y ', 'ochenta y ',' noventa y ']\n",
    "dieces = ['', 'once', 'doce', 'trece', 'catorce', 'quince', 'dieciséis', 'diecisiete', 'dieciocho', 'diecinueve']\n",
    "\n",
    "literal = ''\n",
    "numero = input('Ingrese su numero del 0 al 9: ')\n",
    "posicion = 2\n",
    "for indice in numero:\n",
    "    if posicion == 2:\n",
    "        literal = literal  + decenas[int(indice)]\n",
    "    if posicion == 1:\n",
    "        literal = literal  + unidades[int(indice)]\n",
    "    posicion = posicion - 1\n",
    "print(literal)"
   ]
  },
  {
   "cell_type": "code",
   "execution_count": 15,
   "id": "27e36f43",
   "metadata": {},
   "outputs": [
    {
     "name": "stdout",
     "output_type": "stream",
     "text": [
      "================================\n",
      "Bienvenido al Juego del Ahorcado\n",
      "================================\n",
      "[2, 2, 1, 1, 1]\n",
      "['_', '_', '_', '_', '_']\n",
      "ingrese una letra...f\n",
      "['f', '_', '_', '_', '_']\n",
      "ingrese una letra...g\n",
      "  ___ \n",
      " |/      |    \n",
      " |            \n",
      " |__          \n",
      "['f', '_', '_', '_', '_']\n",
      "ingrese una letra...t\n",
      "  ___ \n",
      " |/      |    \n",
      " |            \n",
      " |__          \n",
      "['f', '_', '_', '_', '_']\n",
      "ingrese una letra...r\n",
      "['f', 'r', '_', '_', '_']\n",
      "ingrese una letra...t\n",
      "  ___ \n",
      " |/      |    \n",
      " |            \n",
      " |__          \n",
      "['f', 'r', '_', '_', '_']\n",
      "ingrese una letra...a\n",
      "['f', 'r', '_', '_', 'a']\n",
      "ingrese una letra...u\n",
      "  ___ \n",
      " |/      |    \n",
      " |            \n",
      " |__          \n",
      "['f', 'r', '_', '_', 'a']\n",
      "ingrese una letra...r\n",
      "['f', 'r', '_', '_', 'a']\n",
      "ingrese una letra...g\n",
      "  ___ \n",
      " |/      |    \n",
      " |            \n",
      " |__          \n",
      "['f', 'r', '_', '_', 'a']\n",
      "ingrese una letra...a\n",
      "['f', 'r', '_', '_', 'a']\n",
      "ingrese una letra...u\n",
      "  ___ \n",
      " |/      |    \n",
      " |            \n",
      " |__          \n",
      "['f', 'r', '_', '_', 'a']\n",
      "ingrese una letra...t\n",
      "  ___ \n",
      " |/      |    \n",
      " |            \n",
      " |__          \n",
      "['f', 'r', '_', '_', 'a']\n",
      "ingrese una letra...e\n",
      "['f', 'r', 'e', '_', 'a']\n",
      "ingrese una letra...s\n",
      "['f', 'r', 'e', 's', 'a']\n",
      "\n",
      " Felicidades! ganaste el juego\n",
      "       ___      \n",
      "      '.=====.'     \n",
      "      .-\\:      /-.    \n",
      "     | (|:.     |) |    \n",
      "      '-|:.     |-'     \n",
      "        \\::.    /      \n",
      "         '::. .'        \n",
      "           ) (          \n",
      "         .' '.        \n",
      "        '-------'       \n"
     ]
    }
   ],
   "source": [
    "import random\n",
    "\n",
    "def imprimir_mensaje_inicial():\n",
    "    print('================================')\n",
    "    print('Bienvenido al Juego del Ahorcado')\n",
    "    print('================================')\n",
    "    \n",
    "def definir_palabra_secreta():\n",
    "    archivo=open('palabras.txt','r')\n",
    "    palabras=[]\n",
    "    for linea in archivo:\n",
    "        linea=linea.strip()\n",
    "        palabras.append(linea)\n",
    "    \n",
    "    \n",
    "    archivo.close()\n",
    "    numero=random.randrange(0,len(palabras))\n",
    "    palabra_secreta = palabras[numero].lower()\n",
    "    \n",
    "    palabra_secreta = 'fresa'\n",
    "    return palabra_secreta\n",
    "\n",
    "def medir_largo_palabra(palabra_secreta):\n",
    "    return len(palabra_secreta)\n",
    "\n",
    "def inicializar_letras_acertadas(palabra_secreta):\n",
    "    return ['_' for elemento in palabra_secreta]\n",
    "\n",
    "def leer_entrada():\n",
    "    entrada=input (\"ingrese una letra...\")\n",
    "    entrada=entrada.strip()\n",
    "    entrada=entrada.lower()\n",
    "    return entrada\n",
    "\n",
    "def marcar_entrada_correcta(entrada, palabra_secreta, letras_acertadas):\n",
    "    indice = 0\n",
    "    for letra in palabra_secreta:\n",
    "            if(entrada==letra):\n",
    "                letras_acertadas[indice] = letra\n",
    "            indice = indice + 1\n",
    "\n",
    "def imprimir_mensaje_ganador():\n",
    "    print('\\n Felicidades! ganaste el juego')\n",
    "    print(\"       ___      \")\n",
    "    print(\"      '.=====.'     \")\n",
    "    print(\"      .-\\\\:      /-.    \")\n",
    "    print(\"     | (|:.     |) |    \")\n",
    "    print(\"      '-|:.     |-'     \")\n",
    "    print(\"        \\\\::.    /      \")\n",
    "    print(\"         '::. .'        \")\n",
    "    print(\"           ) (          \")\n",
    "    print(\"         .' '.        \")\n",
    "    print(\"        '-------'       \")\n",
    "\n",
    "def imprimir_mensaje_perdedor():\n",
    "    print('\\n Lo siento, fuiste ahorcado!')\n",
    "    print(\"La palabra era {}\".format(palabra_secreta))\n",
    "    print(\"    ___         \")\n",
    "    print(\"   /               \\       \")\n",
    "    print(\"  /                 \\      \")\n",
    "    print(\"//                   \\/\\  \")\n",
    "    print(\"\\|   XXXX     XXXX   | /   \")\n",
    "    print(\" |   XXXX     XXXX   |/     \")\n",
    "    print(\" |   XXX       XXX   |      \")\n",
    "    print(\" |                   |      \")\n",
    "    print(\" \\_      XXX      _/     \")\n",
    "    print(\"   |\\     XXX     /|       \")\n",
    "    print(\"   | |           | |        \")\n",
    "    print(\"   | I I I I I I I |        \")\n",
    "    print(\"   |  I I I I I I  |        \")\n",
    "    print(\"   \\_             _/       \")\n",
    "    print(\"     \\_         _/         \")\n",
    "    print(\"       \\_/           \")\n",
    "\n",
    "def dibujar_ahorcado(errores,pasos_dibujo):\n",
    "    print(\"  ___ \")\n",
    "    print(\" |/      |    \")\n",
    "\n",
    "    if(errores == 1):\n",
    "        print(\" |      (_)   \")\n",
    "        print(\" |            \")\n",
    "        print(\" |            \")\n",
    "        print(\" |            \")\n",
    "\n",
    "    if(errores == 2):\n",
    "        print(\" |      (_)   \")\n",
    "        print(\" |      \\     \")\n",
    "        print(\" |            \")\n",
    "        print(\" |            \")\n",
    "\n",
    "    if(errores == 3):\n",
    "        print(\" |      (_)   \")\n",
    "        print(\" |      \\|    \")\n",
    "        print(\" |            \")\n",
    "        print(\" |            \")\n",
    "\n",
    "    if(errores == 4):\n",
    "        print(\" |      (_)   \")\n",
    "        print(\" |      \\|/   \")\n",
    "        print(\" |            \")\n",
    "        print(\" |            \")\n",
    "\n",
    "    if(errores == 5):\n",
    "        print(\" |      (_)   \")\n",
    "        print(\" |      \\|/   \")\n",
    "        print(\" |       |    \")\n",
    "        print(\" |            \")\n",
    "\n",
    "    if(errores == 6):\n",
    "        print(\" |      (_)   \")\n",
    "        print(\" |      \\|/   \")\n",
    "        print(\" |       |    \")\n",
    "        print(\" |      /     \")\n",
    "\n",
    "    if (errores == 7):\n",
    "        print(\" |      (_)   \")\n",
    "        print(\" |      \\|/   \")\n",
    "        print(\" |       |    \")\n",
    "        print(\" |      / \\   \")\n",
    "\n",
    "    print(\" |            \")\n",
    "    print(\" |__          \")\n",
    "def dibujar_ahorcado2(errores):\n",
    "    print(\"  ___ \")\n",
    "    print(\" |/      |    \")\n",
    "\n",
    "    if(errores > 1):\n",
    "        print(\" |      (_)   \")\n",
    "        print(\" |            \")\n",
    "        print(\" |            \")\n",
    "        print(\" |            \")\n",
    "\n",
    "    if(errores > 2):\n",
    "        print(\" |      (_)   \")\n",
    "        print(\" |      \\     \")\n",
    "        print(\" |            \")\n",
    "        print(\" |            \")\n",
    "\n",
    "    if(errores > 3):\n",
    "        print(\" |      (_)   \")\n",
    "        print(\" |      \\|    \")\n",
    "        print(\" |            \")\n",
    "        print(\" |            \")\n",
    "\n",
    "    if(errores > 4):\n",
    "        print(\" |      (_)   \")\n",
    "        print(\" |      \\|/   \")\n",
    "        print(\" |            \")\n",
    "        print(\" |            \")\n",
    "\n",
    "    if(errores > 5):\n",
    "        print(\" |      (_)   \")\n",
    "        print(\" |      \\|/   \")\n",
    "        print(\" |       |    \")\n",
    "        print(\" |            \")\n",
    "\n",
    "    if(errores > 6):\n",
    "        print(\" |      (_)   \")\n",
    "        print(\" |      \\|/   \")\n",
    "        print(\" |       |    \")\n",
    "        print(\" |      /     \")\n",
    "\n",
    "    if (errores == 7):\n",
    "        print(\" |      (_)   \")\n",
    "        print(\" |      \\|/   \")\n",
    "        print(\" |       |    \")\n",
    "        print(\" |      / \\   \")\n",
    "\n",
    "    print(\" |            \")\n",
    "    print(\" |__          \")\n",
    "\n",
    "def calcular_iteraciones_dibujo(largo_palabra, pasos_dibujo):\n",
    "    for i in range(largo_palabra):\n",
    "        pasos_dibujo.append(1)\n",
    "    sumar_pasos = sum(pasos_dibujo)\n",
    "    \n",
    "    while (sumar_pasos < 7 and largo_palabra <7):\n",
    "        for i in range(largo_palabra):\n",
    "            pasos_dibujo[i] = pasos_dibujo[i] + 1\n",
    "            sumar_pasos = sum(pasos_dibujo)\n",
    "            if(sumar_pasos == 7):\n",
    "                break\n",
    "                \n",
    "    while (sumar_pasos < 7 and largo_palabra <7):\n",
    "        for i in range(largo_palabra):\n",
    "            if i % 2 !=0:\n",
    "                pasos_dibujo[i] =0\n",
    "                sumar_pasos = sum(pasos_dibujo)\n",
    "            if(sumar_pasos == 7):\n",
    "                break\n",
    "    \n",
    "    return pasos_dibujo\n",
    "\n",
    "def jugar():\n",
    "\n",
    "    imprimir_mensaje_inicial()\n",
    "    \n",
    "    palabra_secreta = definir_palabra_secreta()\n",
    "    \n",
    "    letras_acertadas = inicializar_letras_acertadas(palabra_secreta)\n",
    "    \n",
    "    ahorcado = False\n",
    "    acerto = False\n",
    "    errores = 0 #contador de errores\n",
    "    \n",
    "    pasos_dibujo = []\n",
    "    pasos_dibujo = calcular_iteraciones_dibujo(len(palabra_secreta), pasos_dibujo)\n",
    "    print(pasos_dibujo)\n",
    "    \n",
    "    print(letras_acertadas)\n",
    "    while ( not ahorcado and not acerto ):\n",
    "        entrada = leer_entrada()\n",
    "        \n",
    "        if entrada in palabra_secreta:\n",
    "            marcar_entrada_correcta(entrada, palabra_secreta, letras_acertadas)\n",
    "        else:\n",
    "            errores += errores\n",
    "            dibujar_ahorcado(errores,pasos_dibujo)\n",
    "        \n",
    "        ahorcado = errores == medir_largo_palabra(palabra_secreta) #largo de la palabra\n",
    "        acerto = \"_\" not in letras_acertadas\n",
    "        print(letras_acertadas)\n",
    "    if (acerto):\n",
    "        imprimir_mensaje_ganador()\n",
    "    else:\n",
    "        imprimir_mensaje_perdedor()\n",
    "    \n",
    "    \n",
    "if(__name__ == \"__main__\"):\n",
    "\n",
    "    jugar()"
   ]
  },
  {
   "cell_type": "code",
   "execution_count": null,
   "id": "e280d637",
   "metadata": {},
   "outputs": [],
   "source": []
  },
  {
   "cell_type": "code",
   "execution_count": null,
   "id": "be4297f4",
   "metadata": {},
   "outputs": [],
   "source": []
  }
 ],
 "metadata": {
  "kernelspec": {
   "display_name": "Python 3 (ipykernel)",
   "language": "python",
   "name": "python3"
  },
  "language_info": {
   "codemirror_mode": {
    "name": "ipython",
    "version": 3
   },
   "file_extension": ".py",
   "mimetype": "text/x-python",
   "name": "python",
   "nbconvert_exporter": "python",
   "pygments_lexer": "ipython3",
   "version": "3.11.4"
  }
 },
 "nbformat": 4,
 "nbformat_minor": 5
}
